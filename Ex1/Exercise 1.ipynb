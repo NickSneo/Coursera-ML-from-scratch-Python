{
 "cells": [
  {
   "cell_type": "markdown",
   "metadata": {},
   "source": [
    "# Simple Linear Regression\n",
    "---\n",
    "This exercise implements Linear Regression with one variable from scratch. Dataset used is ex1data1.txt. It has input feature - Population of city. The aim is to predict the profit."
   ]
  },
  {
   "cell_type": "code",
   "execution_count": 1,
   "metadata": {},
   "outputs": [],
   "source": [
    "#Importing dependencies\n",
    "import numpy as np\n",
    "import pandas as pd\n",
    "import matplotlib.pyplot as plt\n",
    "%matplotlib inline"
   ]
  },
  {
   "cell_type": "code",
   "execution_count": 2,
   "metadata": {},
   "outputs": [],
   "source": [
    "#Loading data\n",
    "data = pd.read_csv('ex1data1.txt', header=None)\n",
    "data.insert(loc=0,column=None,value=1)\n",
    "x = np.array(data.iloc[:,0:2]).reshape(97,2)\n",
    "y = np.array(data[1]).reshape(97,1)"
   ]
  },
  {
   "cell_type": "code",
   "execution_count": 3,
   "metadata": {},
   "outputs": [],
   "source": [
    "#Prediction method\n",
    "def predict(weight,x,y):\n",
    "\treturn np.dot(x,weight) - y"
   ]
  },
  {
   "cell_type": "code",
   "execution_count": 4,
   "metadata": {},
   "outputs": [],
   "source": [
    "#Method to calculate loss\n",
    "def calc_loss(weight,x,y):\n",
    "\tpred = (weight[1]*x) + weight[0]\n",
    "\treturn np.mean(np.square(pred-y))"
   ]
  },
  {
   "cell_type": "code",
   "execution_count": 5,
   "metadata": {},
   "outputs": [],
   "source": [
    "#Initializing weight matrix\n",
    "weight = np.array([[0],[0]])\n",
    "#Setting hyperparameters\n",
    "alpha = 0.01\n",
    "iters = 1000"
   ]
  },
  {
   "cell_type": "code",
   "execution_count": 6,
   "metadata": {},
   "outputs": [
    {
     "name": "stdout",
     "output_type": "stream",
     "text": [
      "Loss:13.474380929740024\n",
      "Loss:10.95272563454548\n",
      "Loss:10.34726910233005\n",
      "Loss:9.925212986235039\n",
      "Loss:9.631002988233371\n",
      "Loss:9.425912907499518\n",
      "Loss:9.282947197628637\n",
      "Loss:9.183287603533453\n",
      "Loss:9.113816156819503\n",
      "Loss:9.065388487086874\n",
      "Final weights:\n",
      "[[-3.24140214]\n",
      " [ 1.1272942 ]]\n"
     ]
    }
   ],
   "source": [
    "#Gradient Descent !\n",
    "losses = []\n",
    "for i in range(iters):\n",
    "    weight = weight - ( ((alpha)/(len(x))) * np.dot( predict(weight,x,y).T, x ) ).T\n",
    "    losses.append(calc_loss(weight,data.iloc[:,1],data.iloc[:,2]))\n",
    "    if (i % 100 == 0):\n",
    "        print(\"Loss:\" + str(losses[i]))\n",
    "\n",
    "print(\"Final weights:\")\n",
    "print(weight)"
   ]
  },
  {
   "cell_type": "code",
   "execution_count": 7,
   "metadata": {},
   "outputs": [
    {
     "data": {
      "text/plain": [
       "<matplotlib.legend.Legend at 0x7f235ed01d30>"
      ]
     },
     "execution_count": 7,
     "metadata": {},
     "output_type": "execute_result"
    },
    {
     "data": {
      "image/png": "[encoded data removed]",
      "text/plain": [
       "<matplotlib.figure.Figure at 0x7f235edd8898>"
      ]
     },
     "metadata": {},
     "output_type": "display_data"
    }
   ],
   "source": [
    "#Visualization\n",
    "plot_x = data.iloc[:,1]\n",
    "plot_y = data.iloc[:,2]\n",
    "plt.scatter(plot_x,plot_y, marker='x', color='red',s=60, linewidth=0.75, label='Training Data')\n",
    "plt.plot(plot_x, weight[0]+weight[1]*plot_x,color=\"blue\", linewidth=1, label='Linear Regression')\n",
    "plt.legend()"
   ]
  },
  {
   "cell_type": "code",
   "execution_count": 8,
   "metadata": {},
   "outputs": [
    {
     "data": {
      "text/plain": [
       "[<matplotlib.lines.Line2D at 0x7f235b433a20>]"
      ]
     },
     "execution_count": 8,
     "metadata": {},
     "output_type": "execute_result"
    },
    {
     "data": {
      "image/png": "[encoded data removed]",
      "text/plain": [
       "<matplotlib.figure.Figure at 0x7f235edc48d0>"
      ]
     },
     "metadata": {},
     "output_type": "display_data"
    }
   ],
   "source": [
    "plt.xlabel(\"Iterations\")\n",
    "plt.ylabel(\"Loss\")\n",
    "plt.plot(losses)"
   ]
  }
 ],
 "metadata": {
  "kernelspec": {
   "display_name": "Python 3",
   "language": "python",
   "name": "python3"
  },
  "language_info": {
   "codemirror_mode": {
    "name": "ipython",
    "version": 3
   },
   "file_extension": ".py",
   "mimetype": "text/x-python",
   "name": "python",
   "nbconvert_exporter": "python",
   "pygments_lexer": "ipython3",
   "version": "3.6.3"
  }
 },
 "nbformat": 4,
 "nbformat_minor": 2
}
