{
 "cells": [
  {
   "cell_type": "markdown",
   "metadata": {},
   "source": [
    "## Regularized Linear Regression and Bias vs Variance\n",
    "---\n",
    "The aim of this exercise is to study Bias and Variance by plotting various learning curves. Linear regression being an easy model is used to study the Bias and Variance in a model "
   ]
  },
  {
   "cell_type": "markdown",
   "metadata": {},
   "source": [
    "## 1. Regularized Linear Regression\n",
    "---\n",
    "In this part, we will implement regularized linear regression to predict the amount of water flowing out of a dam using the change of water level in a reservoir."
   ]
  },
  {
   "cell_type": "markdown",
   "metadata": {},
   "source": [
    "#### Importing Dependencies"
   ]
  },
  {
   "cell_type": "code",
   "execution_count": 1,
   "metadata": {},
   "outputs": [],
   "source": [
    "import numpy as np\n",
    "import matplotlib.pyplot as plt\n",
    "import pandas as pd\n",
    "from scipy.io import loadmat\n",
    "%matplotlib inline"
   ]
  },
  {
   "cell_type": "markdown",
   "metadata": {},
   "source": [
    "#### Method to do inference"
   ]
  },
  {
   "cell_type": "code",
   "execution_count": 2,
   "metadata": {},
   "outputs": [],
   "source": [
    "def predict(X,theta):\n",
    "\treturn np.dot(X, theta)"
   ]
  },
  {
   "cell_type": "markdown",
   "metadata": {},
   "source": [
    "#### Cost Function"
   ]
  },
  {
   "cell_type": "code",
   "execution_count": 3,
   "metadata": {},
   "outputs": [],
   "source": [
    "def cost(X,y,theta,lambd):\n",
    "    hyp = predict(X,theta)\n",
    "    sq_err = ( (1/(2*len(X))) * np.sum((hyp-y)**2) ) + ( (lambd/(2*len(X))) * (theta[1:]**2) )\n",
    "    return sq_err"
   ]
  },
  {
   "cell_type": "markdown",
   "metadata": {},
   "source": [
    "#### Initializing the data"
   ]
  },
  {
   "cell_type": "code",
   "execution_count": 4,
   "metadata": {},
   "outputs": [],
   "source": [
    "data = loadmat('ex5data1.mat')\n",
    "\n",
    "X = np.array(data['X'])\n",
    "y = np.array(data['y'])\n",
    "\n",
    "Xval = np.array(data['Xval'])\n",
    "yval = np.array(data['yval'])\n",
    "\n",
    "Xtest = np.array(data['Xtest'])\n",
    "ytest = np.array(data['ytest'])\n",
    "\n",
    "Xmean = X.mean()\n",
    "Xstd = X.std()\n",
    "\n",
    "ymean = y.mean()\n",
    "ystd = y.std()\n",
    "\n",
    "#X = (X - Xmean)/Xstd\n",
    "#Xval = (Xval - Xmean)/Xstd\n",
    "Xtest = (Xtest - Xmean)/Xstd\n",
    "\n",
    "X = np.insert(X,0,values=1,axis=1)\n",
    "Xval = np.insert(Xval,0,values=1,axis=1)\n",
    "Xtest = np.insert(Xtest,0,values=1,axis=1)\n",
    "#y = (y-ymean)/ystd\n",
    "#yval = (yval - ymean)/ystd\n",
    "ytest = (ytest - ymean)/ystd"
   ]
  },
  {
   "cell_type": "code",
   "execution_count": 5,
   "metadata": {},
   "outputs": [],
   "source": [
    "# Initializing Weight vector\n",
    "theta = np.array([[1],[1]])\n",
    "#Hyperparameters\n",
    "lambd = 1\n",
    "alpha = 0.001\n",
    "iters = 1000\n",
    "m = len(X)\n",
    "\n",
    "#error_train and error_val store the training and cross validation errors respectively\n",
    "error_train = []\n",
    "error_val = []"
   ]
  },
  {
   "cell_type": "code",
   "execution_count": 6,
   "metadata": {},
   "outputs": [],
   "source": [
    "for curr_m in range(1,m+1):\n",
    "    for i in range(iters):\n",
    "#         if i%100==0:\n",
    "#             print(\"Cost:\" + str(cost(X[:curr_m,:], y[:curr_m,:], theta, lambd=0)))\n",
    "        grad = (1.0/curr_m) * np.dot(X[:curr_m,:].T, predict(X[:curr_m,:],theta)-y[:curr_m,:])\n",
    "        reg = (lambd) * theta\n",
    "        #Do not regularize bias\n",
    "        reg[0] = 0\n",
    "        update = grad+reg\n",
    "        theta = theta - alpha*update\n",
    "    error_train.append(cost(X[:curr_m,:], y[:curr_m,:], theta, lambd=0).squeeze())\n",
    "    error_val.append(cost(Xval, yval, theta, lambd=0).squeeze())"
   ]
  },
  {
   "cell_type": "code",
   "execution_count": 7,
   "metadata": {},
   "outputs": [
    {
     "data": {
      "image/png": "[encoded data removed]",
      "text/plain": [
       "<matplotlib.figure.Figure at 0x7f0651d168d0>"
      ]
     },
     "metadata": {},
     "output_type": "display_data"
    }
   ],
   "source": [
    "plt.scatter(X[:,1],y, marker='x',color='red')\n",
    "plt.plot(X[:,1], predict(X,theta))\n",
    "plt.xlabel('Change in water level (x)')\n",
    "plt.ylabel('Water flowing out of the dam (y)')\n",
    "plt.grid()"
   ]
  },
  {
   "cell_type": "markdown",
   "metadata": {},
   "source": [
    "## Bias-Variance\n",
    "---\n",
    "In this part, train and test errors on a learning curve will be plotted to diagnose bias-variance problems."
   ]
  },
  {
   "cell_type": "markdown",
   "metadata": {},
   "source": [
    "#### Learning Curves\n",
    "A learning curve plots training and cross validation error as a function of training set size"
   ]
  },
  {
   "cell_type": "code",
   "execution_count": 8,
   "metadata": {},
   "outputs": [
    {
     "data": {
      "image/png": "[encoded data removed]",
      "text/plain": [
       "<matplotlib.figure.Figure at 0x7f0651d16748>"
      ]
     },
     "metadata": {},
     "output_type": "display_data"
    }
   ],
   "source": [
    "plt.plot(range(1,m+1), error_train, color='blue', label='Train')\n",
    "plt.plot(range(1,m+1), error_val, color='green', label='Cross Validation')\n",
    "plt.legend()\n",
    "plt.title('Learning curve for linear regression')\n",
    "plt.xlabel('Number of training examples')\n",
    "plt.ylabel('Error')\n",
    "plt.grid()"
   ]
  },
  {
   "cell_type": "markdown",
   "metadata": {},
   "source": [
    "#### Polynomial Regression\n",
    "We see that above model resulted in High Bias. So now, we add more features. New features are powers of the original feature. So x2 = (x1)^2, x3 = (x1)^3 ... xp = (x1)^p"
   ]
  },
  {
   "cell_type": "code",
   "execution_count": 9,
   "metadata": {},
   "outputs": [],
   "source": [
    "def mapFeatures(X,p):\n",
    "    x = pd.DataFrame(X.copy())\n",
    "    for i in range(2,p+1):\n",
    "        x[i] = X[:,1]**i\n",
    "    return np.array(x)"
   ]
  },
  {
   "cell_type": "code",
   "execution_count": 10,
   "metadata": {},
   "outputs": [],
   "source": [
    "#Initializing data\n",
    "X = data['X']\n",
    "y = data['y']\n",
    "\n",
    "Xval = data['Xval']\n",
    "yval = data['yval']\n",
    "\n",
    "X = np.insert(X,0,1,axis=1)\n",
    "Xval = np.insert(Xval,0,1,axis=1)\n",
    "\n",
    "X = mapFeatures(X, 8)\n",
    "Xval = mapFeatures(Xval, 8)\n",
    "\n",
    "#Feature scaling\n",
    "Xmean = X.mean(axis=0)\n",
    "Xstd = X.std(axis=0)\n",
    "ymean = y.mean()\n",
    "ystd = y.std()\n",
    "\n",
    "X[:,1:] = (X[:,1:]-Xmean[1:])/Xstd[1:]\n",
    "y = (y-ymean)/ystd\n",
    "\n",
    "Xval[:,1:] = (Xval[:,1:]-Xmean[1:])/Xstd[1:]\n",
    "yval = (yval-ymean)/ystd\n",
    "\n",
    "error_train = []\n",
    "error_val = []\n",
    "\n",
    "#Hyperparameters\n",
    "lambd=0\n",
    "alpha = 0.005\n",
    "iters=1000"
   ]
  },
  {
   "cell_type": "code",
   "execution_count": 11,
   "metadata": {},
   "outputs": [],
   "source": [
    "#Training - Incresing 1 sample at a time and recording error\n",
    "for curr_m in range(1,m+1):\n",
    "    #Reinitializing theta after adding one new sample\n",
    "    theta = np.ones([X.shape[1],1])\n",
    "    for i in range(iters):\n",
    "        grad = (1.0/curr_m) * np.dot(X[:curr_m,:].T, predict(X[:curr_m,:],theta)-y[:curr_m,:])\n",
    "        reg = (lambd) * theta\n",
    "        #Do not regularize bias\n",
    "        reg[0] = 0\n",
    "        update = grad+reg\n",
    "        theta = theta - alpha*update\n",
    "    error_train.append(cost(X[:curr_m,:], y[:curr_m,:], theta, lambd=0).squeeze()[0])\n",
    "    error_val.append(cost(Xval, yval, theta, lambd=0).squeeze()[0])"
   ]
  },
  {
   "cell_type": "code",
   "execution_count": 12,
   "metadata": {},
   "outputs": [
    {
     "data": {
      "image/png": "[encoded data removed]",
      "text/plain": [
       "<matplotlib.figure.Figure at 0x7f064e381748>"
      ]
     },
     "metadata": {},
     "output_type": "display_data"
    }
   ],
   "source": [
    "#Plotting Learning Curve\n",
    "plt.plot(range(1,m+1), error_train, color='blue', label='Train')\n",
    "plt.plot(range(1,m+1), error_val, color='green', label='Cross Validation')\n",
    "plt.legend()\n",
    "plt.xlabel('Number of training examples')\n",
    "plt.ylabel('Error')\n",
    "plt.title('Polynomial Regression Learning Curve (lambda = ' + str(lambd) + \" )\")\n",
    "plt.grid(True)"
   ]
  },
  {
   "cell_type": "code",
   "execution_count": 13,
   "metadata": {},
   "outputs": [
    {
     "name": "stdout",
     "output_type": "stream",
     "text": [
      "Cost:[103.65317443]\n",
      "Cost:[1.05950719]\n",
      "Cost:[0.44920068]\n",
      "Cost:[0.36660928]\n",
      "Cost:[0.33259595]\n",
      "Cost:[0.3098026]\n",
      "Cost:[0.29271056]\n",
      "Cost:[0.27956371]\n",
      "Cost:[0.26933751]\n",
      "Cost:[0.26130164]\n"
     ]
    }
   ],
   "source": [
    "#Retraining to show High Variance\n",
    "#Retraining is done on the entire data\n",
    "X = data['X']\n",
    "y = data['y']\n",
    "\n",
    "X = np.insert(X,0,1,axis=1)\n",
    "X = mapFeatures(X,8)\n",
    "#Feature scaling\n",
    "mean = X.mean(axis=0)\n",
    "std = X.std(axis=0)\n",
    "X[:,1:] = (X[:,1:] - mean[1:])/std[1:]\n",
    "\n",
    "#Initializing theta\n",
    "theta = np.ones([X.shape[1],1])\n",
    "\n",
    "#Hyperparameters\n",
    "alpha=0.3\n",
    "iters= 1000\n",
    "lambd=0\n",
    "\n",
    "#Gradient Descent\n",
    "for i in range(iters):\n",
    "    if i%100==0:\n",
    "        print(\"Cost:\" + str(cost(X, y, theta, lambd=0)[0]))\n",
    "    grad = (1.0/curr_m) * np.dot(X.T, predict(X,theta)-y)\n",
    "    reg = (lambd) * theta\n",
    "    #Do not regularize bias\n",
    "    reg[0] = 0\n",
    "    update = grad+reg\n",
    "    theta = theta - alpha*update"
   ]
  },
  {
   "cell_type": "code",
   "execution_count": 14,
   "metadata": {},
   "outputs": [
    {
     "data": {
      "text/plain": [
       "[<matplotlib.lines.Line2D at 0x7f064e31cef0>]"
      ]
     },
     "execution_count": 14,
     "metadata": {},
     "output_type": "execute_result"
    },
    {
     "data": {
      "image/png": "[encoded data removed]",
      "text/plain": [
       "<matplotlib.figure.Figure at 0x7f064e381470>"
      ]
     },
     "metadata": {},
     "output_type": "display_data"
    }
   ],
   "source": [
    "plt_x = np.array(data['X'])\n",
    "plt_y = np.array(data['y'])\n",
    "\n",
    "plt.scatter(plt_x, plt_y, marker='x', color='red')\n",
    "\n",
    "xvals = np.linspace(-55,55, 50).reshape(-1,1)\n",
    "xvals = np.insert(xvals,0,1,axis=1)\n",
    "yvals = np.zeros((xvals.shape[0],9))\n",
    "\n",
    "for i in range(len(xvals)):\n",
    "    yvals[i] = mapFeatures(np.array([xvals[i]]), 8)\n",
    "\n",
    "yvals[:,1:] = (yvals[:,1:] - mean[1:])/std[1:]\n",
    "plt.title('Polynomial Regression (lambda=' + str(lambd) + \")\")\n",
    "plt.xlabel('Change in water level(x)')\n",
    "plt.ylabel('Water flowing out of the dam (y)')\n",
    "plt.plot(xvals[:,1:],predict(yvals,theta), 'b--')"
   ]
  },
  {
   "cell_type": "markdown",
   "metadata": {},
   "source": [
    "#### Selecting lambda using cross validation set"
   ]
  },
  {
   "cell_type": "code",
   "execution_count": 15,
   "metadata": {},
   "outputs": [],
   "source": [
    "#Initializing data\n",
    "X = data['X']\n",
    "y = data['y']\n",
    "\n",
    "Xval = data['Xval']\n",
    "yval = data['yval']\n",
    "\n",
    "X = np.insert(X,0,1,axis=1)\n",
    "Xval = np.insert(Xval,0,1,axis=1)\n",
    "\n",
    "X = mapFeatures(X, 8)\n",
    "Xval = mapFeatures(Xval, 8)\n",
    "\n",
    "#Feature scaling\n",
    "Xmean = X.mean(axis=0)\n",
    "Xstd = X.std(axis=0)\n",
    "ymean = y.mean()\n",
    "ystd = y.std()\n",
    "\n",
    "X[:,1:] = (X[:,1:]-Xmean[1:])/Xstd[1:]\n",
    "y = (y-ymean)/ystd\n",
    "\n",
    "Xval[:,1:] = (Xval[:,1:]-Xmean[1:])/Xstd[1:]\n",
    "yval = (yval-ymean)/ystd\n",
    "\n",
    "error_train = []\n",
    "error_val = []\n",
    "\n",
    "#Hyperparameters\n",
    "#Trying out different values of lambda\n",
    "lambdas = [0, 0.001, 0.003, 0.01, 0.03, 0.1, 0.3, 1, 3, 10]\n",
    "alpha = 0.001\n",
    "iters=1000\n",
    "\n",
    "m = len(X)"
   ]
  },
  {
   "cell_type": "code",
   "execution_count": 16,
   "metadata": {},
   "outputs": [],
   "source": [
    "#Training - Trying out different lambdas\n",
    "for curr_lambda in lambdas:\n",
    "    #Reinitializing theta\n",
    "    theta = np.ones([X.shape[1],1])\n",
    "    for i in range(iters):\n",
    "        grad = (1.0/m) * np.dot(X.T, predict(X,theta)-y)\n",
    "        reg = (curr_lambda) * theta\n",
    "        #Do not regularize bias\n",
    "        reg[0] = 0\n",
    "        update = grad+reg\n",
    "        theta = theta - alpha*update\n",
    "    error_train.append(cost(X, y, theta, lambd=curr_lambda).squeeze()[0])\n",
    "    error_val.append(cost(Xval, yval, theta, lambd=curr_lambda).squeeze()[0])"
   ]
  },
  {
   "cell_type": "code",
   "execution_count": 17,
   "metadata": {},
   "outputs": [
    {
     "data": {
      "image/png": "[encoded data removed]",
      "text/plain": [
       "<matplotlib.figure.Figure at 0x7f064e381320>"
      ]
     },
     "metadata": {},
     "output_type": "display_data"
    }
   ],
   "source": [
    "#Plotting Learning Curve\n",
    "plt.plot(lambdas, error_train, color='blue', label='Train')\n",
    "plt.plot(lambdas, error_val, color='green', label='Cross Validation')\n",
    "plt.legend()\n",
    "plt.xlabel('lambda')\n",
    "plt.ylabel('Error')\n",
    "plt.grid()"
   ]
  }
 ],
 "metadata": {
  "kernelspec": {
   "display_name": "Python 3",
   "language": "python",
   "name": "python3"
  },
  "language_info": {
   "codemirror_mode": {
    "name": "ipython",
    "version": 3
   },
   "file_extension": ".py",
   "mimetype": "text/x-python",
   "name": "python",
   "nbconvert_exporter": "python",
   "pygments_lexer": "ipython3",
   "version": "3.6.3"
  }
 },
 "nbformat": 4,
 "nbformat_minor": 2
}
