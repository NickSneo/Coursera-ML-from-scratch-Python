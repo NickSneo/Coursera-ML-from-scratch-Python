{
 "cells": [
  {
   "cell_type": "markdown",
   "metadata": {},
   "source": [
    "## Movies Recommendation using Collaborative Filtering\n",
    "---\n",
    "In this exercise, we will use Collaborative filtering to recommend movies"
   ]
  },
  {
   "cell_type": "code",
   "execution_count": 1,
   "metadata": {},
   "outputs": [],
   "source": [
    "#Importing dependencies\n",
    "import numpy as np\n",
    "from scipy.io import loadmat\n",
    "import matplotlib.pyplot as plt"
   ]
  },
  {
   "cell_type": "code",
   "execution_count": 2,
   "metadata": {},
   "outputs": [],
   "source": [
    "def getCost(X, theta, R, Y):\n",
    "\treturn 0.5 * np.sum(((np.dot(X, theta.T) * R) - (Y*R))**2)"
   ]
  },
  {
   "cell_type": "code",
   "execution_count": 3,
   "metadata": {},
   "outputs": [],
   "source": [
    "def getRegularizedCost(X, theta, R, Y, lambd):\n",
    "\tcost = getCost(X, theta, R, Y)\n",
    "\tcost += lambd/2 * np.sum(theta**2)\n",
    "\tcost += lambd/2 * np.sum(X**2)\n",
    "\treturn cost"
   ]
  },
  {
   "cell_type": "code",
   "execution_count": 4,
   "metadata": {},
   "outputs": [],
   "source": [
    "#Initializing data\n",
    "data = loadmat('ex8_movies.mat')\n",
    "\n",
    "Y = np.array(data['Y'])\n",
    "R = np.array(data['R'])"
   ]
  },
  {
   "cell_type": "code",
   "execution_count": 5,
   "metadata": {},
   "outputs": [
    {
     "name": "stdout",
     "output_type": "stream",
     "text": [
      "Unregularized cost:22.224603725685675\n",
      "Regularized cost:31.34405624427422\n"
     ]
    }
   ],
   "source": [
    "#Temporary code to check cost function\n",
    "num_users = 4\n",
    "num_movies = 5\n",
    "num_features = 3\n",
    "params = loadmat('ex8_movieParams.mat')\n",
    "#X - (1682 x 10)\n",
    "X = np.array(params['X'])\n",
    "#theta - (943 x 10)\n",
    "theta = np.array(params['Theta'])\n",
    "#temp_X = (5 x 3)\n",
    "temp_X = X[:num_movies, :num_features]\n",
    "#temp_Y = (5 x 4)\n",
    "temp_Y = Y[:num_movies, :num_users]\n",
    "#temp_R = (5 x 4)\n",
    "temp_R = R[:num_movies, :num_users]\n",
    "#temp_theta - (4 x 3)\n",
    "temp_theta = theta[:num_users, :num_features]\n",
    "\n",
    "unreg_cost = getCost(temp_X, temp_theta, temp_R, temp_Y)\n",
    "print(\"Unregularized cost:\" + str(unreg_cost))\n",
    "\n",
    "lambd = 1.5\n",
    "reg_cost = getRegularizedCost(temp_X, temp_theta, temp_R, temp_Y, lambd)\n",
    "print(\"Regularized cost:\" + str(reg_cost))"
   ]
  },
  {
   "cell_type": "code",
   "execution_count": 6,
   "metadata": {},
   "outputs": [],
   "source": [
    "movies = []\n",
    "with open('movie_ids.txt') as f:\n",
    "    for line in f:\n",
    "        movies.append(' '.join(line.strip('\\n').split(' ')[1:]))"
   ]
  },
  {
   "cell_type": "code",
   "execution_count": 7,
   "metadata": {},
   "outputs": [],
   "source": [
    "#Entering my ratings (My preferences)\n",
    "my_ratings = np.zeros((1682,1))\n",
    "#Here, my_ratings[index] - index is used to refer to a movie, index according to movie_ids.txt\n",
    "my_ratings[0]   = 4\n",
    "my_ratings[97]  = 2\n",
    "my_ratings[6]   = 3\n",
    "my_ratings[11]  = 5\n",
    "my_ratings[53]  = 4\n",
    "my_ratings[63]  = 5\n",
    "my_ratings[65]  = 3\n",
    "my_ratings[68]  = 5\n",
    "my_ratings[182] = 4\n",
    "my_ratings[225] = 5\n",
    "my_ratings[354] = 5"
   ]
  },
  {
   "cell_type": "code",
   "execution_count": 8,
   "metadata": {},
   "outputs": [],
   "source": [
    "#nf - number of features we want per movie\n",
    "#Instead of manually deciding features, we let the algorithm learn the features\n",
    "nf = 10\n",
    "myRatings_row = my_ratings > 0\n",
    "Y = np.hstack((Y,my_ratings))\n",
    "R = np.hstack((R,myRatings_row))\n",
    "\n",
    "#nm - number of movies\n",
    "#nu - number of users\n",
    "nm, nu = Y.shape"
   ]
  },
  {
   "cell_type": "code",
   "execution_count": 9,
   "metadata": {},
   "outputs": [],
   "source": [
    "#Normalize Ratings\n",
    "Ymean = np.sum(Y,axis=1,keepdims=True)/np.sum(R,axis=1, keepdims=True)\n",
    "Y = Y - Ymean"
   ]
  },
  {
   "cell_type": "code",
   "execution_count": 10,
   "metadata": {},
   "outputs": [],
   "source": [
    "np.random.seed(7)\n",
    "#X is a matrix of movies x features\n",
    "#We initialize it randomly and they are learned by algorithm according to the preferences of users\n",
    "X = np.random.rand(nm, nf)\n",
    "theta = np.random.rand(nu, nf)\n",
    "\n",
    "#Hyperparameters\n",
    "lambd = 10\n",
    "iters = 50\n",
    "alpha = 1e-03"
   ]
  },
  {
   "cell_type": "code",
   "execution_count": 11,
   "metadata": {},
   "outputs": [
    {
     "name": "stdout",
     "output_type": "stream",
     "text": [
      "Cost:423843.128765416\n",
      "Cost:158789.69531425607\n",
      "Cost:118802.1012599242\n",
      "Cost:102581.539213448\n",
      "Cost:93520.6415763488\n",
      "Cost:87648.19241601456\n",
      "Cost:83470.59236117403\n",
      "Cost:80302.16740871203\n",
      "Cost:77784.72352363136\n",
      "Cost:75713.09822968477\n",
      "Cost:73961.32002755617\n",
      "Cost:72447.70300209937\n",
      "Cost:71116.89239409703\n",
      "Cost:69929.9889919369\n",
      "Cost:68858.81180427162\n",
      "Cost:67882.4094481689\n",
      "Cost:66984.85531024708\n",
      "Cost:66153.8070142311\n",
      "Cost:65379.53768097998\n",
      "Cost:64654.267739134695\n",
      "Cost:63971.69357766099\n",
      "Cost:63326.6483227361\n",
      "Cost:62714.853263876765\n",
      "Cost:62132.73270863321\n",
      "Cost:61577.27401326715\n",
      "Cost:61045.92031058407\n",
      "Cost:60536.48725189481\n",
      "Cost:60047.097623656184\n",
      "Cost:59576.129433911665\n",
      "Cost:59122.17426574308\n",
      "Cost:58684.00354049751\n",
      "Cost:58260.54093654787\n",
      "Cost:57850.83964484171\n",
      "Cost:57454.06346071833\n",
      "Cost:57069.4709464943\n",
      "Cost:56696.40207457437\n",
      "Cost:56334.26689266272\n",
      "Cost:55982.53585254826\n",
      "Cost:55640.73152013065\n",
      "Cost:55308.421442779305\n",
      "Cost:54985.211995111305\n",
      "Cost:54670.74305903778\n",
      "Cost:54364.68342085914\n",
      "Cost:54066.726789100074\n",
      "Cost:53776.58835304055\n",
      "Cost:53494.00181459379\n",
      "Cost:53218.71683612152\n",
      "Cost:52950.49685461964\n",
      "Cost:52689.11721893673\n",
      "Cost:52434.36361172155\n",
      "Final Cost:52186.03072191508\n"
     ]
    }
   ],
   "source": [
    "#Gradient Descent\n",
    "for i in range(iters):\n",
    "\tprint(\"Cost:\" + str(getRegularizedCost(X, theta, R, Y, lambd)))\n",
    "\tX = X - (alpha * (np.dot(((np.dot(X, theta.T)*R) - (Y*R)), theta) + lambd*X))\n",
    "\ttheta = theta - (alpha * (np.dot(((np.dot(X, theta.T)*R) - (Y*R)).T, X) + lambd*theta))\n",
    "\n",
    "print(\"Final Cost:\" + str(getRegularizedCost(X, theta, R, Y, lambd)))"
   ]
  },
  {
   "cell_type": "code",
   "execution_count": 12,
   "metadata": {},
   "outputs": [],
   "source": [
    "prediction = np.dot(X, theta.T)\n",
    "my_preds = prediction[:,-1] + Ymean.flatten()\n",
    "\n",
    "pred_idxs_sorted = np.argsort(my_preds)\n",
    "pred_idxs_sorted[:] = pred_idxs_sorted[::-1]"
   ]
  },
  {
   "cell_type": "code",
   "execution_count": 13,
   "metadata": {},
   "outputs": [
    {
     "name": "stdout",
     "output_type": "stream",
     "text": [
      "Top recommendations for you:\n",
      "Predicting rating 6.1 for movie Prefontaine (1997).\n",
      "Predicting rating 6.0 for movie Saint of Fort Washington, The (1993).\n",
      "Predicting rating 6.0 for movie Marlene Dietrich: Shadow and Light (1996) .\n",
      "Predicting rating 6.0 for movie Someone Else's America (1995).\n",
      "Predicting rating 6.0 for movie Great Day in Harlem, A (1994).\n",
      "Predicting rating 5.9 for movie They Made Me a Criminal (1939).\n",
      "Predicting rating 5.8 for movie Aiqing wansui (1994).\n",
      "Predicting rating 5.8 for movie Star Kid (1997).\n",
      "Predicting rating 5.8 for movie Entertaining Angels: The Dorothy Day Story (1996).\n",
      "Predicting rating 5.7 for movie Santa with Muscles (1996).\n",
      "\n",
      "Original ratings provided:\n",
      "Rated 4 for movie Toy Story (1995).\n",
      "Rated 3 for movie Twelve Monkeys (1995).\n",
      "Rated 5 for movie Usual Suspects, The (1995).\n",
      "Rated 4 for movie Outbreak (1995).\n",
      "Rated 5 for movie Shawshank Redemption, The (1994).\n",
      "Rated 3 for movie While You Were Sleeping (1995).\n",
      "Rated 5 for movie Forrest Gump (1994).\n",
      "Rated 2 for movie Silence of the Lambs, The (1991).\n",
      "Rated 4 for movie Alien (1979).\n",
      "Rated 5 for movie Die Hard 2 (1990).\n",
      "Rated 5 for movie Sphere (1998).\n"
     ]
    }
   ],
   "source": [
    "print(\"Top recommendations for you:\")\n",
    "for i in range(10):\n",
    "    print('Predicting rating %0.1f for movie %s.' % (my_preds[pred_idxs_sorted[i]],movies[pred_idxs_sorted[i]]))\n",
    "    \n",
    "print(\"\\nOriginal ratings provided:\")\n",
    "for i in range(len(my_ratings)):\n",
    "    if my_ratings[i] > 0:\n",
    "        print('Rated %d for movie %s.' % (my_ratings[i],movies[i]))"
   ]
  }
 ],
 "metadata": {
  "kernelspec": {
   "display_name": "Python 3",
   "language": "python",
   "name": "python3"
  },
  "language_info": {
   "codemirror_mode": {
    "name": "ipython",
    "version": 3
   },
   "file_extension": ".py",
   "mimetype": "text/x-python",
   "name": "python",
   "nbconvert_exporter": "python",
   "pygments_lexer": "ipython3",
   "version": "3.6.3"
  }
 },
 "nbformat": 4,
 "nbformat_minor": 2
}
