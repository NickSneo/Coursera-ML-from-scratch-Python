{
 "cells": [
  {
   "cell_type": "markdown",
   "metadata": {},
   "source": [
    "## Simple Logistic Regression\n",
    "---\n",
    "This part of the exercise implements Simple Logistic Regression from scratch.\n",
    "Dataset used in ex2data1.txt\n",
    "It has 2 features - Exam 1 score and Exam 2 score.\n",
    "The aim is to predict whether the student gets admitted into a unversity based on the scores of these 2 exams."
   ]
  },
  {
   "cell_type": "code",
   "execution_count": 1,
   "metadata": {},
   "outputs": [],
   "source": [
    "#Importing dependencies\n",
    "import numpy as np\n",
    "import pandas as pd\n",
    "import matplotlib.pyplot as plt\n",
    "%matplotlib inline"
   ]
  },
  {
   "cell_type": "code",
   "execution_count": 2,
   "metadata": {},
   "outputs": [],
   "source": [
    "#Logistic function\n",
    "def sigmoid(x,deriv=False):\n",
    "\tif deriv is True:\n",
    "\t\treturn x*(1-x)\n",
    "\treturn 1/(1+np.exp(-x))"
   ]
  },
  {
   "cell_type": "code",
   "execution_count": 3,
   "metadata": {},
   "outputs": [],
   "source": [
    "#Prediction method\n",
    "def predict(theta,x):\n",
    "\tres = sigmoid(np.dot(x,theta))\n",
    "\treturn np.array([1 if x>=0.5 else 0 for x in res]).reshape(res.shape)"
   ]
  },
  {
   "cell_type": "code",
   "execution_count": 4,
   "metadata": {},
   "outputs": [],
   "source": [
    "#Loss function - Cross Entropy\n",
    "def cost(theta,x,y):\n",
    "\tfirst = -y * np.log(sigmoid(np.dot(x,theta)))\n",
    "\tsecond = (1-y) * np.log(1 - sigmoid(np.dot(x,theta)))\n",
    "\treturn np.sum(first-second) / len(x)"
   ]
  },
  {
   "cell_type": "code",
   "execution_count": 5,
   "metadata": {},
   "outputs": [],
   "source": [
    "#Initializing data\n",
    "data = pd.read_csv('ex2data1.txt', header=None)\n",
    "x = data.iloc[:,:2]\n",
    "x = (x - x.mean()) / x.std()\n",
    "x.insert(loc=0, column=None, value=1)\n",
    "x = np.array(x).reshape(data.shape[0],3)\n",
    "y = np.array(data.iloc[:,2]).reshape(data.shape[0],1)"
   ]
  },
  {
   "cell_type": "code",
   "execution_count": 6,
   "metadata": {},
   "outputs": [],
   "source": [
    "#Initializing weight vector\n",
    "theta = np.array([[0],[0],[0]])\n",
    "\n",
    "#Hyperparameters\n",
    "alpha = 5e-5\n",
    "iters = 10000"
   ]
  },
  {
   "cell_type": "code",
   "execution_count": 7,
   "metadata": {},
   "outputs": [
    {
     "name": "stdout",
     "output_type": "stream",
     "text": [
      "Final weights:\n",
      "[[0.04701196]\n",
      " [0.13179276]\n",
      " [0.11765801]]\n",
      "Initial cost:0.6931471805599453\n",
      "Final cost:0.6262210592815479\n"
     ]
    }
   ],
   "source": [
    "#Gradient Descent\n",
    "init_cost = str(cost(theta,x,y));\n",
    "\n",
    "for i in range(iters):\n",
    "\ttheta = theta - (((alpha)/(len(x))) * ( np.dot(x.T, sigmoid(np.dot(x,theta)) - y)))\n",
    "\n",
    "print(\"Final weights:\")\n",
    "print(theta)\n",
    "print(\"Initial cost:\" + str(init_cost))\n",
    "print(\"Final cost:\" + str(cost(theta,x,y)))"
   ]
  },
  {
   "cell_type": "code",
   "execution_count": 8,
   "metadata": {},
   "outputs": [
    {
     "name": "stdout",
     "output_type": "stream",
     "text": [
      "Training set accuracy:90.0\n"
     ]
    }
   ],
   "source": [
    "#Evaluation on Training Set\n",
    "prediction = predict(theta,x)\n",
    "correct = [1 if a==b else 0 for (a,b) in zip(prediction,y)]\n",
    "print(\"Training set accuracy:\" + str((sum(correct)/len(x))*100))"
   ]
  },
  {
   "cell_type": "code",
   "execution_count": 9,
   "metadata": {},
   "outputs": [
    {
     "data": {
      "text/plain": [
       "<matplotlib.legend.Legend at 0x7fba5f4ded68>"
      ]
     },
     "execution_count": 9,
     "metadata": {},
     "output_type": "execute_result"
    },
    {
     "data": {
      "image/png": "[encoded data removed]",
      "text/plain": [
       "<matplotlib.figure.Figure at 0x7fba5f562a58>"
      ]
     },
     "metadata": {},
     "output_type": "display_data"
    }
   ],
   "source": [
    "#Visualization\n",
    "px = x[:,1]\n",
    "py = x[:,2]\n",
    "pz = np.array(data.iloc[:,2])\n",
    "\n",
    "plt.scatter(px[pz==0],py[pz==0],marker='o',color='yellow',label=\"Not admitted\")\n",
    "plt.scatter(px[pz==1],py[pz==1],marker='+',color='black', label=\"Admitted\")\n",
    "\n",
    "plot_x = np.array([-2,2])\n",
    "plt.plot(plot_x,(-theta[0]-theta[1]*plot_x)/theta[2],label='Site')\n",
    "plt.legend()"
   ]
  },
  {
   "cell_type": "markdown",
   "metadata": {},
   "source": [
    "## Regularized Logistic Regression\n",
    "---\n",
    "This part of the exercise implements Regularized Logistic Regression from scratch to predict whether the microchips from a fabrication plant passes quality assurance (QA) tests. \n",
    "Dataset used is ex2data2.txt.\n",
    "It has 2 features - Result of Test 1 and Test 2 on microchips.\n",
    "The aim is to find whether the microchips should be accepted or rejected."
   ]
  },
  {
   "cell_type": "code",
   "execution_count": 10,
   "metadata": {},
   "outputs": [],
   "source": [
    "#Regularized Loss Function\n",
    "def regularized_cost(theta, x, y, lambd):\n",
    "    first_cost = cost(theta, x, y)\n",
    "    reg_cost = (lambd/(2*len(x))) * (np.sum(theta[1:]**2))\n",
    "    return first_cost+reg_cost"
   ]
  },
  {
   "cell_type": "code",
   "execution_count": 11,
   "metadata": {},
   "outputs": [],
   "source": [
    "#Feature Mapping\n",
    "def mapFeatures(x1, x2):\n",
    "    #Adding extra features which are combinations of the 2 features upto degree 6\n",
    "    #Example - (x1**2), (x2**2), (x1*x2), (x1**3) etc\n",
    "    x = pd.DataFrame()\n",
    "    degree = 6\n",
    "    ctr=1\n",
    "    for i in range(1,degree+1):\n",
    "        for j in range(0,i+1):\n",
    "            x[ctr] = (x1**(i-j))*(x2**j)\n",
    "            ctr+=1\n",
    "    return x\n"
   ]
  },
  {
   "cell_type": "code",
   "execution_count": 12,
   "metadata": {},
   "outputs": [],
   "source": [
    "#Initializing data\n",
    "data2 = pd.read_csv('ex2data2.txt', names=['x1' ,'x2' ,'y'])\n",
    "x1 = data2.iloc[:,0]\n",
    "x2 = data2.iloc[:,1]\n",
    "y = data2.iloc[:,2]\n",
    "\n",
    "#Feature mapping \n",
    "x = mapFeatures(x1, x2)\n",
    "#Feature Scaling\n",
    "xmean = x.mean()\n",
    "xstd = x.std()\n",
    "x = (x-xmean)/xstd\n",
    "\n",
    "x.insert(loc=0,column=0,value=1)"
   ]
  },
  {
   "cell_type": "code",
   "execution_count": 13,
   "metadata": {},
   "outputs": [],
   "source": [
    "#Initializing weight vector with zeros\n",
    "theta = np.zeros(x.shape[1]).reshape(x.shape[1],1)\n",
    "\n",
    "#Hyperparameters\n",
    "alpha=0.99\n",
    "iters=500\n",
    "lambd=1"
   ]
  },
  {
   "cell_type": "code",
   "execution_count": 14,
   "metadata": {},
   "outputs": [
    {
     "name": "stdout",
     "output_type": "stream",
     "text": [
      "Cost:0.6931471805599454\n",
      "Cost:0.3699241446483423\n",
      "Cost:0.36641270551015626\n",
      "Cost:0.36600430747062807\n",
      "Cost:0.36592419602817183\n",
      "Cost:0.36590310428940975\n",
      "Cost:0.36589640543565727\n",
      "Cost:0.3658939866566\n",
      "Cost:0.36589302904688364\n",
      "Cost:0.3658926216963201\n",
      "Final cost:0.3658924373400462\n",
      "Final weights:\n",
      "[[-0.52537439]\n",
      " [ 0.7087218 ]\n",
      " [ 1.30800805]\n",
      " [-0.68645014]\n",
      " [-0.89738349]\n",
      " [-0.94494528]\n",
      " [ 0.33030399]\n",
      " [ 0.36256364]\n",
      " [ 0.14579432]\n",
      " [ 0.22364598]\n",
      " [-0.86518199]\n",
      " [-0.13646653]\n",
      " [-0.23430355]\n",
      " [-0.36765679]\n",
      " [-0.89666799]\n",
      " [-0.14048047]\n",
      " [-0.05428582]\n",
      " [ 0.64399037]\n",
      " [-0.28360288]\n",
      " [-0.49732903]\n",
      " [-0.09589184]\n",
      " [-0.87293527]\n",
      " [-0.03528501]\n",
      " [-0.28147904]\n",
      " [ 0.35286388]\n",
      " [-0.68780953]\n",
      " [-0.41539011]\n",
      " [-0.56550627]]\n"
     ]
    }
   ],
   "source": [
    "x = np.array(x)\n",
    "y = np.array(y).reshape(y.shape[0],1)\n",
    "\n",
    "#Gradient Descent\n",
    "m = len(x)\n",
    "plot_cost = []\n",
    "for i in range(iters):\n",
    "    \n",
    "    if i%50==0:\n",
    "        print(\"Cost:\" + str(regularized_cost(theta, x, y, lambd)))\n",
    "    \n",
    "    plot_cost.append(regularized_cost(theta, x, y, lambd))\n",
    "    theta[0] = theta[0] - (((alpha)/m) * ( np.dot((x[:,0].reshape(x[:,0].shape[0],1)).T, sigmoid(np.dot(x,theta)) - y)))\n",
    "    theta[1:] = theta[1:] - ( (((alpha)/m) * ( np.dot(x[:,1:].T, sigmoid(np.dot(x,theta)) - y))) + ((lambd/m) * theta[1:]) )\n",
    "\n",
    "print(\"Final cost:\" + str(regularized_cost(theta, x, y, lambd)))\n",
    "print(\"Final weights:\")\n",
    "print(theta)\n"
   ]
  },
  {
   "cell_type": "code",
   "execution_count": 15,
   "metadata": {},
   "outputs": [
    {
     "data": {
      "text/plain": [
       "Text(0,0.5,'Loss')"
      ]
     },
     "execution_count": 15,
     "metadata": {},
     "output_type": "execute_result"
    },
    {
     "data": {
      "image/png": "[encoded data removed]",
      "text/plain": [
       "<matplotlib.figure.Figure at 0x7fba5bc61da0>"
      ]
     },
     "metadata": {},
     "output_type": "display_data"
    }
   ],
   "source": [
    "#Visualization of Loss\n",
    "plt.plot(plot_cost)\n",
    "plt.xlabel('Iterations')\n",
    "plt.ylabel('Loss')"
   ]
  },
  {
   "cell_type": "code",
   "execution_count": 16,
   "metadata": {},
   "outputs": [
    {
     "data": {
      "text/plain": [
       "<matplotlib.contour.QuadContourSet at 0x7fba5bba0908>"
      ]
     },
     "execution_count": 16,
     "metadata": {},
     "output_type": "execute_result"
    },
    {
     "data": {
      "image/png": "[encoded data removed]",
      "text/plain": [
       "<matplotlib.figure.Figure at 0x7fba5bbee2e8>"
      ]
     },
     "metadata": {},
     "output_type": "display_data"
    }
   ],
   "source": [
    "#Visualization\n",
    "x1 = np.array(x1).reshape(x1.shape[0],1)\n",
    "x2 = np.array(x2).reshape(x2.shape[0],1)\n",
    "y = np.array(y).reshape(y.shape[0],1)\n",
    "plt.xlabel('Microchip Test 1')\n",
    "plt.ylabel('Microchip Test 2')\n",
    "plt.title('lambda = ' + str(lambd))\n",
    "plt.scatter(x1[y==1], x2[y==1], marker='+', color='black', label='y = 1')\n",
    "plt.scatter(x1[y==0], x2[y==0], marker='o', color='yellow', label='y = 0')\n",
    "plt.legend()\n",
    "\n",
    "xvals = np.linspace(-1, 1.5, 50)\n",
    "yvals = np.linspace(-1, 1.5, 50)\n",
    "zvals = np.zeros((len(xvals), len(yvals)))\n",
    "\n",
    "for i in range(len(xvals)):\n",
    "    for j in range(len(yvals)):\n",
    "        myfeaturesij = mapFeatures(np.array([xvals[i]]), np.array([yvals[j]]))\n",
    "        myfeaturesij = (myfeaturesij - xmean)/xstd\n",
    "        myfeaturesij.insert(loc=0, column=0, value=1)\n",
    "        zvals[i][j] = np.dot(myfeaturesij, theta)\n",
    "zvals = zvals.transpose()\n",
    "\n",
    "plt.contour(xvals, yvals, zvals, [0])"
   ]
  }
 ],
 "metadata": {
  "kernelspec": {
   "display_name": "Python 3",
   "language": "python",
   "name": "python3"
  },
  "language_info": {
   "codemirror_mode": {
    "name": "ipython",
    "version": 3
   },
   "file_extension": ".py",
   "mimetype": "text/x-python",
   "name": "python",
   "nbconvert_exporter": "python",
   "pygments_lexer": "ipython3",
   "version": "3.6.3"
  }
 },
 "nbformat": 4,
 "nbformat_minor": 2
}
