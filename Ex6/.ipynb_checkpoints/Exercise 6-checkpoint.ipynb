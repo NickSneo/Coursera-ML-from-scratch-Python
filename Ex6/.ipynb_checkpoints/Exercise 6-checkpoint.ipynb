{
 "cells": [
  {
   "cell_type": "markdown",
   "metadata": {},
   "source": [
    "## Support Vector Machines\n",
    "---\n",
    "In this exercise, we will implement Support Vector Machines using the Scikit-learn library.\n",
    "We fill first try out SVM on sample datasets and then finally build an e-mail spam classifier using SVM."
   ]
  },
  {
   "cell_type": "code",
   "execution_count": 1,
   "metadata": {},
   "outputs": [],
   "source": [
    "#Importing Dependencies\n",
    "import numpy as np\n",
    "import matplotlib.pyplot as plt\n",
    "import pandas as pd\n",
    "from scipy.io import loadmat\n",
    "from sklearn import svm\n",
    "from sklearn.model_selection import GridSearchCV\n",
    "from sklearn import metrics\n",
    "%matplotlib inline"
   ]
  },
  {
   "cell_type": "markdown",
   "metadata": {},
   "source": [
    "#### Example Dataset 1\n",
    "This is a 2D example dataset (ex6data1.mat) which can be seperated by a linear boundary."
   ]
  },
  {
   "cell_type": "code",
   "execution_count": 2,
   "metadata": {},
   "outputs": [],
   "source": [
    "#Initializing data\n",
    "data = loadmat('ex6data1.mat')\n",
    "X = data['X']\n",
    "y = data['y']"
   ]
  },
  {
   "cell_type": "code",
   "execution_count": 3,
   "metadata": {},
   "outputs": [],
   "source": [
    "C=1 #Hyperparameter ( C plays the role similar to 1/lambda where lambda is the regualarization parameter )\n",
    "#Making SVM using sklearn\n",
    "#Using the linear kernel\n",
    "clf = svm.SVC(C=C, kernel='linear', random_state=0)"
   ]
  },
  {
   "cell_type": "code",
   "execution_count": 4,
   "metadata": {},
   "outputs": [
    {
     "name": "stderr",
     "output_type": "stream",
     "text": [
      "/home/jayesh/anaconda3/lib/python3.6/site-packages/sklearn/utils/validation.py:578: DataConversionWarning: A column-vector y was passed when a 1d array was expected. Please change the shape of y to (n_samples, ), for example using ravel().\n",
      "  y = column_or_1d(y, warn=True)\n"
     ]
    },
    {
     "data": {
      "text/plain": [
       "SVC(C=1, cache_size=200, class_weight=None, coef0=0.0,\n",
       "  decision_function_shape='ovr', degree=3, gamma='auto', kernel='linear',\n",
       "  max_iter=-1, probability=False, random_state=0, shrinking=True,\n",
       "  tol=0.001, verbose=False)"
      ]
     },
     "execution_count": 4,
     "metadata": {},
     "output_type": "execute_result"
    }
   ],
   "source": [
    "#Training\n",
    "clf.fit(X,y)"
   ]
  },
  {
   "cell_type": "code",
   "execution_count": 5,
   "metadata": {},
   "outputs": [
    {
     "data": {
      "image/png": "[encoded data removed]",
      "text/plain": [
       "<matplotlib.figure.Figure at 0x7fe58d58ea20>"
      ]
     },
     "metadata": {},
     "output_type": "display_data"
    }
   ],
   "source": [
    "#Visualization\n",
    "theta = clf.coef_.flatten()\n",
    "plt.scatter(X[np.where(y==0),0], X[np.where(y==0),1], color='yellow', marker='o',s=26)\n",
    "plt.scatter(X[np.where(y==1),0], X[np.where(y==1),1], color='black', marker='+',s=26)\n",
    "\n",
    "plot_X = np.array([0,5])\n",
    "plt.plot(plot_X, (-clf.intercept_[0] - theta[0]*plot_X)/theta[1])\n",
    "plt.grid()"
   ]
  },
  {
   "cell_type": "markdown",
   "metadata": {},
   "source": [
    "#### Example dataset 2\n",
    "In this example dataset (ex6data2.mat), we will try Gaussian kernel."
   ]
  },
  {
   "cell_type": "code",
   "execution_count": 6,
   "metadata": {},
   "outputs": [],
   "source": [
    "#Initializing data\n",
    "data = loadmat('ex6data2.mat')\n",
    "X = data['X']\n",
    "y = data['y']"
   ]
  },
  {
   "cell_type": "code",
   "execution_count": 7,
   "metadata": {},
   "outputs": [],
   "source": [
    "#Hyperparameters\n",
    "C=100\n",
    "gamma=10"
   ]
  },
  {
   "cell_type": "code",
   "execution_count": 8,
   "metadata": {},
   "outputs": [
    {
     "data": {
      "text/plain": [
       "SVC(C=100, cache_size=200, class_weight=None, coef0=0.0,\n",
       "  decision_function_shape='ovr', degree=3, gamma=10, kernel='rbf',\n",
       "  max_iter=-1, probability=False, random_state=None, shrinking=True,\n",
       "  tol=0.001, verbose=False)"
      ]
     },
     "execution_count": 8,
     "metadata": {},
     "output_type": "execute_result"
    }
   ],
   "source": [
    "#Making the SVM using the Radial Basis Function kernel\n",
    "clf = svm.SVC(C=C, gamma=gamma, kernel='rbf')\n",
    "clf.fit(X,y.ravel())"
   ]
  },
  {
   "cell_type": "code",
   "execution_count": 9,
   "metadata": {},
   "outputs": [
    {
     "name": "stderr",
     "output_type": "stream",
     "text": [
      "/home/jayesh/anaconda3/lib/python3.6/site-packages/matplotlib/contour.py:1180: UserWarning: No contour levels were found within the data range.\n",
      "  warnings.warn(\"No contour levels were found\"\n"
     ]
    },
    {
     "data": {
      "text/plain": [
       "[0, 1, 0.4, 1]"
      ]
     },
     "execution_count": 9,
     "metadata": {},
     "output_type": "execute_result"
    },
    {
     "data": {
      "image/png": "[encoded data removed]",
      "text/plain": [
       "<matplotlib.figure.Figure at 0x7fe58d4ebfd0>"
      ]
     },
     "metadata": {},
     "output_type": "display_data"
    }
   ],
   "source": [
    "#Visualization\n",
    "x_min, x_max = X[:,0].min(), X[:,0].max()\n",
    "y_min, y_max = X[:,1].min(), X[:,1].max()\n",
    "\n",
    "xx,yy = np.meshgrid(np.linspace(x_min, x_max, 100), np.linspace(y_min,y_max,100))\n",
    "X_plot = np.c_[xx.ravel(), yy.ravel()]\n",
    "\n",
    "z = clf.predict(X_plot)\n",
    "z = z.reshape(xx.shape)\n",
    "\n",
    "plt.scatter(X[np.where(y==1),0], X[np.where(y==1),1], color='black', marker='+',s=26)\n",
    "plt.scatter(X[np.where(y==0),0], X[np.where(y==0),1], color='yellow', marker='o',s=26)\n",
    "plt.contour(xx, yy, z, [0])\n",
    "plt.axis([0,1,0.4,1])"
   ]
  },
  {
   "cell_type": "markdown",
   "metadata": {},
   "source": [
    "#### Example Dataset 3\n",
    "In this dataset (ex6data3.mat), we are giving training as well as validation set. We will find optimal hyperparameters using the validation set. We will use Scikit learn's GridSearchCV for this."
   ]
  },
  {
   "cell_type": "code",
   "execution_count": 10,
   "metadata": {},
   "outputs": [],
   "source": [
    "#Initializing data\n",
    "data = loadmat('ex6data3.mat')\n",
    "X = data['X']\n",
    "y = data['y'].ravel()\n",
    "\n",
    "Xval = data['Xval']\n",
    "yval = data['yval'].ravel()"
   ]
  },
  {
   "cell_type": "code",
   "execution_count": 11,
   "metadata": {},
   "outputs": [],
   "source": [
    "#hyperparams corresspond to the hyperparameters we want to try\n",
    "hyperparams = [0.01, 0.03, 0.1, 0.3, 1, 3, 10, 30, 100]\n",
    "#We have passed hyperparams to both C and gamma because we try from these values and find the optimal hyperparameters\n",
    "param_grid = dict(C=hyperparams, gamma=hyperparams)\n",
    "\n",
    "#Making the SVM using the RBF kernel\n",
    "clf = svm.SVC(kernel='rbf')"
   ]
  },
  {
   "cell_type": "code",
   "execution_count": 12,
   "metadata": {},
   "outputs": [
    {
     "name": "stdout",
     "output_type": "stream",
     "text": [
      "Optimal hyperparameters:{'C': 1, 'gamma': 100}\n",
      "Best estimator:SVC(C=1, cache_size=200, class_weight=None, coef0=0.0,\n",
      "  decision_function_shape='ovr', degree=3, gamma=100, kernel='rbf',\n",
      "  max_iter=-1, probability=False, random_state=None, shrinking=True,\n",
      "  tol=0.001, verbose=False)\n"
     ]
    }
   ],
   "source": [
    "#Finding optimal hyperparameter using GridSearchCV\n",
    "#Here, we are doing 10 fold cross-validation\n",
    "grid = GridSearchCV(clf, param_grid, cv=10, scoring='accuracy')\n",
    "grid.fit(X,y)\n",
    "#Priting out the optimal hyperparameters\n",
    "print(\"Optimal hyperparameters:\" + str(grid.best_params_))\n",
    "#Getting the best estimator\n",
    "clf_best = grid.best_estimator_\n",
    "print(\"Best estimator:\" + str(clf_best)) "
   ]
  },
  {
   "cell_type": "code",
   "execution_count": 13,
   "metadata": {},
   "outputs": [
    {
     "name": "stderr",
     "output_type": "stream",
     "text": [
      "/home/jayesh/anaconda3/lib/python3.6/site-packages/matplotlib/contour.py:1180: UserWarning: No contour levels were found within the data range.\n",
      "  warnings.warn(\"No contour levels were found\"\n"
     ]
    },
    {
     "data": {
      "text/plain": [
       "[-0.6, 0.3, -0.8, 0.6]"
      ]
     },
     "execution_count": 13,
     "metadata": {},
     "output_type": "execute_result"
    },
    {
     "data": {
      "image/png": "[encoded data removed]",
      "text/plain": [
       "<matplotlib.figure.Figure at 0x7fe5cc3eb780>"
      ]
     },
     "metadata": {},
     "output_type": "display_data"
    }
   ],
   "source": [
    "#Visualization \n",
    "x_min, x_max = Xval[:,0].min(), Xval[:,0].max()\n",
    "y_min, y_max = Xval[:,1].min(), Xval[:,1].max()\n",
    "\n",
    "xx,yy = np.meshgrid(np.linspace(x_min, x_max, 100), np.linspace(y_min,y_max,100))\n",
    "X_plot = np.c_[xx.ravel(), yy.ravel()]\n",
    "\n",
    "z = clf_best.predict(X_plot)\n",
    "z = z.reshape(xx.shape)\n",
    "plt.contour(xx, yy, z, [0])\n",
    "\n",
    "plt.scatter(X[np.where(y==1),0], X[np.where(y==1),1], color='black', marker='+',s=26)\n",
    "plt.scatter(X[np.where(y==0),0], X[np.where(y==0),1], color='yellow', marker='o',s=26)\n",
    "plt.axis([-0.6,0.3,-0.8,0.6])"
   ]
  },
  {
   "cell_type": "markdown",
   "metadata": {},
   "source": [
    "#### Spam Classification\n",
    "Now, we will using SVM to do e-mail spam classification.\n",
    "We will use the spamTrain.mat dataset.\n",
    "All the required preprocessing on e-mails is already done and provided to us."
   ]
  },
  {
   "cell_type": "code",
   "execution_count": 14,
   "metadata": {},
   "outputs": [],
   "source": [
    "#Initializing data\n",
    "data = loadmat('spamTrain.mat')\n",
    "X = data['X']\n",
    "y = data['y'].ravel()\n",
    "\n",
    "data_test = loadmat('spamTest.mat')\n",
    "X_test = data_test['Xtest']\n",
    "y_test = data_test['ytest']"
   ]
  },
  {
   "cell_type": "code",
   "execution_count": 15,
   "metadata": {},
   "outputs": [],
   "source": [
    "#Hyperparameters\n",
    "hyperparams = [0.01, 0.03, 0.1, 0.3, 1, 3, 10, 30]\n",
    "param_grid = dict(C=hyperparams, gamma=hyperparams)"
   ]
  },
  {
   "cell_type": "code",
   "execution_count": 16,
   "metadata": {},
   "outputs": [
    {
     "data": {
      "text/plain": [
       "SVC(C=1.0, cache_size=200, class_weight=None, coef0=0.0,\n",
       "  decision_function_shape='ovr', degree=3, gamma='auto', kernel='rbf',\n",
       "  max_iter=-1, probability=False, random_state=None, shrinking=True,\n",
       "  tol=0.001, verbose=False)"
      ]
     },
     "execution_count": 16,
     "metadata": {},
     "output_type": "execute_result"
    }
   ],
   "source": [
    "#Making the SVM using the RBF kernel\n",
    "clf = svm.SVC(kernel='rbf')\n",
    "clf.fit(X,y)"
   ]
  },
  {
   "cell_type": "code",
   "execution_count": 17,
   "metadata": {},
   "outputs": [
    {
     "name": "stdout",
     "output_type": "stream",
     "text": [
      "Score:0.953\n"
     ]
    }
   ],
   "source": [
    "#Evaluation\n",
    "y_pred = clf.predict(X_test)\n",
    "\n",
    "print(\"Score:\" + str(metrics.accuracy_score(y_test, y_pred)))"
   ]
  }
 ],
 "metadata": {
  "kernelspec": {
   "display_name": "Python 3",
   "language": "python",
   "name": "python3"
  },
  "language_info": {
   "codemirror_mode": {
    "name": "ipython",
    "version": 3
   },
   "file_extension": ".py",
   "mimetype": "text/x-python",
   "name": "python",
   "nbconvert_exporter": "python",
   "pygments_lexer": "ipython3",
   "version": "3.6.3"
  }
 },
 "nbformat": 4,
 "nbformat_minor": 2
}
