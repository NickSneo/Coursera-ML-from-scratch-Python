{
 "cells": [
  {
   "cell_type": "markdown",
   "metadata": {},
   "source": [
    "## Feedforward Neural Network\n",
    "---\n",
    "This exercise implements only the feedforward phase of the neural network for mnist dataset. The pretrained weights are provided in the exercise. The neural network has a single hidden layer. Input layer has 401 neurons corresponding to the pixels of 20x20 image (400 pixels + 1 bias). Hidden layer has 26 neurons (25 + 1 bias). Output layer has 10 neurons corresponding to the digits 0-9."
   ]
  },
  {
   "cell_type": "markdown",
   "metadata": {},
   "source": [
    "#### Importing dependencies"
   ]
  },
  {
   "cell_type": "code",
   "execution_count": 1,
   "metadata": {},
   "outputs": [],
   "source": [
    "import numpy as np\n",
    "from scipy.io import loadmat"
   ]
  },
  {
   "cell_type": "markdown",
   "metadata": {},
   "source": [
    "#### Sigmoidal activation function"
   ]
  },
  {
   "cell_type": "code",
   "execution_count": 2,
   "metadata": {},
   "outputs": [],
   "source": [
    "def sigmoid(x,deriv=False):\n",
    "\tif deriv is True:\n",
    "\t\treturn x*(1-x)\n",
    "\treturn 1/(1+np.exp(-x))"
   ]
  },
  {
   "cell_type": "markdown",
   "metadata": {},
   "source": [
    "#### Initializing data"
   ]
  },
  {
   "cell_type": "code",
   "execution_count": 3,
   "metadata": {},
   "outputs": [],
   "source": [
    "data = loadmat('ex3data1.mat')\n",
    "data_weights = loadmat('ex3weights.mat')\n",
    "\n",
    "X = np.array(data['X'])\n",
    "y = np.array(data['y'])\n",
    "y = y.reshape(y.shape[0],1)\n",
    "\n",
    "X = np.insert(X, 0, np.ones(X.shape[0]), axis=1)"
   ]
  },
  {
   "cell_type": "markdown",
   "metadata": {},
   "source": [
    "#### Initializing weight matrices"
   ]
  },
  {
   "cell_type": "code",
   "execution_count": 4,
   "metadata": {},
   "outputs": [],
   "source": [
    "w0 = np.array(data_weights['Theta1']).T\n",
    "w1 = np.array(data_weights['Theta2']).T\n",
    "\n",
    "w0 = np.insert(w0, 0, np.ones(w0.shape[0]), axis=1)"
   ]
  },
  {
   "cell_type": "markdown",
   "metadata": {},
   "source": [
    "#### Feedforward Phase"
   ]
  },
  {
   "cell_type": "code",
   "execution_count": 5,
   "metadata": {},
   "outputs": [],
   "source": [
    "correct = 0\n",
    "\n",
    "for i in range(X.shape[0]):\n",
    "\n",
    "\tl0 = X[i].reshape(1,X[i].shape[0])\n",
    "\tl1 = sigmoid(np.dot(l0,w0))\n",
    "\tl2 = sigmoid(np.dot(l1,w1))\n",
    "\n",
    "\tresult = np.argmax(l2)\n",
    "\tresult+=1\n",
    "\tif result is 0:\n",
    "\t\tresult=10\n",
    "\n",
    "\tif result==y[i]:\n",
    "\t\tcorrect+=1"
   ]
  },
  {
   "cell_type": "markdown",
   "metadata": {},
   "source": [
    "#### Evaluating the network"
   ]
  },
  {
   "cell_type": "code",
   "execution_count": 6,
   "metadata": {},
   "outputs": [
    {
     "name": "stdout",
     "output_type": "stream",
     "text": [
      "Accuracy:97.52\n"
     ]
    }
   ],
   "source": [
    "accuracy = (correct/5000)*100\n",
    "print(\"Accuracy:\" + str(accuracy))"
   ]
  }
 ],
 "metadata": {
  "kernelspec": {
   "display_name": "Python 3",
   "language": "python",
   "name": "python3"
  },
  "language_info": {
   "codemirror_mode": {
    "name": "ipython",
    "version": 3
   },
   "file_extension": ".py",
   "mimetype": "text/x-python",
   "name": "python",
   "nbconvert_exporter": "python",
   "pygments_lexer": "ipython3",
   "version": "3.6.3"
  }
 },
 "nbformat": 4,
 "nbformat_minor": 2
}
